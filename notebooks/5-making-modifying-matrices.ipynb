{
  "cells": [
    {
      "cell_type": "markdown",
      "metadata": {
        "id": "Kgevl0ubBVqJ"
      },
      "source": [
        "# 05 Exercise - Making and Modifying Matrices"
      ]
    },
    {
      "cell_type": "markdown",
      "metadata": {
        "id": "fHKf74GSBVqM"
      },
      "source": [
        "In this exercise set, we are going are going to work with a dataset about the weather in Berlin. This will give us plenty of practice with 2D arrays."
      ]
    },
    {
      "cell_type": "code",
      "execution_count": 1,
      "metadata": {
        "colab": {
          "base_uri": "https://localhost:8080/"
        },
        "id": "qKQ3kfGnBVqN",
        "outputId": "15faeefc-539e-43d6-dba0-131170a49b5b"
      },
      "outputs": [
        {
          "output_type": "stream",
          "name": "stdout",
          "text": [
            "Record High:\n",
            "[15.1, 18.0, 25.8, 30.8, 32.7, 35.4, 37.3, 38.0, 32.3, 27.7, 20.4, 15.6]\n",
            "\n",
            "Daily Mean:\n",
            "[0.1, 0.9, 43, 9.0, 14.0, 16.8, 19.1, 18.5, 14.2, 9.4, 4.4, 1.0]\n",
            "\n",
            "Record Low:\n",
            "[-25.3, -22.0, -16.0, -7.4, -2.8, 1.3, 4.9, 4.6, -0.9, -7.7, -12.0, -24.0]\n",
            "\n"
          ]
        }
      ],
      "source": [
        "# DON'T MODIFY THIS CELL, ONLY RUN IT.\n",
        "\n",
        "# Importing numpy as np.\n",
        "import numpy as np\n",
        "\n",
        "# List of weather in Berlin in Celsius taken from Wikipedia\n",
        "row_description = [\"Record High\", \"Daily Mean\", \"Record Low\"]\n",
        "berlin_weather_list = [\n",
        "    [15.1, 18.0, 25.8, 30.8, 32.7, 35.4, 37.3, 38.0, 32.3, 27.7, 20.4, 15.6],\n",
        "    [0.1, 0.9, 43, 9.0, 14.0, 16.8, 19.1, 18.5, 14.2, 9.4, 4.4, 1.0],\n",
        "    [-25.3, -22.0, -16.0, -7.4, -2.8, 1.3, 4.9, 4.6, -0.9, -7.7, -12.0, -24.0]\n",
        "]\n",
        "\n",
        "# Print out the data\n",
        "for idx, row in enumerate(row_description):\n",
        "    print(f'{row}:\\n{berlin_weather_list[idx]}\\n')"
      ]
    },
    {
      "cell_type": "markdown",
      "metadata": {
        "id": "EP_sXi0BBVqQ"
      },
      "source": [
        "## Exercise 1: Make a 2D Array"
      ]
    },
    {
      "cell_type": "markdown",
      "metadata": {
        "id": "IqHAbTKsBVqR"
      },
      "source": [
        "Make a 2D array called <b>berlin_weather</b> from the <b>berlin_weather_list</b> and check the size of the array."
      ]
    },
    {
      "cell_type": "code",
      "execution_count": 2,
      "metadata": {
        "scrolled": true,
        "colab": {
          "base_uri": "https://localhost:8080/"
        },
        "id": "zaqEkcPfBVqS",
        "outputId": "b9e9a4b6-ab65-4480-e1b4-44d4a1ccb27d"
      },
      "outputs": [
        {
          "output_type": "execute_result",
          "data": {
            "text/plain": [
              "(3, 12)"
            ]
          },
          "metadata": {},
          "execution_count": 2
        }
      ],
      "source": [
        "# Convert the berlin_weather_list into a NumPy array\n",
        "berlin_weather_list = np.array(berlin_weather_list)\n",
        "\n",
        "# Find the shape of the array\n",
        "berlin_weather_list.shape"
      ]
    },
    {
      "cell_type": "markdown",
      "metadata": {
        "id": "jJVTuKNTBVqU"
      },
      "source": [
        "## Exercise 2: Changing Enteries"
      ]
    },
    {
      "cell_type": "markdown",
      "metadata": {
        "id": "OwCxZAWyBVqV"
      },
      "source": [
        "There is a typo in the dataset. The average temperature for March daily average should be 4.3 not 43. Fix the mistake by using indexing, not by modifying the original list."
      ]
    },
    {
      "cell_type": "code",
      "execution_count": 6,
      "metadata": {
        "colab": {
          "base_uri": "https://localhost:8080/"
        },
        "id": "Ns1WOMKnBVqW",
        "outputId": "89c04027-5f43-4b4f-a40b-60f2556dea11"
      },
      "outputs": [
        {
          "output_type": "stream",
          "name": "stdout",
          "text": [
            "Before: 43.0\n",
            "After: 4.3\n"
          ]
        }
      ],
      "source": [
        "# Setting the daily average for March to be 4.3\n",
        "print(f'Before: {berlin_weather_list[1, 2]}')\n",
        "\n",
        "berlin_weather_list[1, 2] /= 10\n",
        "\n",
        "print(f'After: {berlin_weather_list[1, 2]}')"
      ]
    },
    {
      "cell_type": "markdown",
      "metadata": {
        "id": "OjeoMbKRBVqX"
      },
      "source": [
        "## Exercise 3:  Printing Out the Data"
      ]
    },
    {
      "cell_type": "markdown",
      "metadata": {
        "id": "9xjG5prLBVqZ"
      },
      "source": [
        "Print out the column containing the data for June."
      ]
    },
    {
      "cell_type": "code",
      "execution_count": 12,
      "metadata": {
        "colab": {
          "base_uri": "https://localhost:8080/"
        },
        "id": "QqcwJ1QZBVqa",
        "outputId": "91b7c062-44c3-47e6-b0a2-f2f4d54f8b4f"
      },
      "outputs": [
        {
          "output_type": "stream",
          "name": "stdout",
          "text": [
            "Record High for june: 35.4\n",
            "Daily Mean for june: 16.8\n",
            "Record Low for june: 1.3\n"
          ]
        }
      ],
      "source": [
        "# Data for June\n",
        "for desc, data in zip(row_description, berlin_weather_list[:, 5]):\n",
        "  print(f'{desc} for june: {data}')"
      ]
    },
    {
      "cell_type": "markdown",
      "metadata": {
        "id": "xL55btH2BVqb"
      },
      "source": [
        "## Exercise 4: Reshaping the Data"
      ]
    },
    {
      "cell_type": "markdown",
      "metadata": {
        "id": "5c-GPvs6BVqc"
      },
      "source": [
        "### Exercise 4a:\n",
        "Take the row containing the record low temperatures and reshape it into a matrix with 6 rows and 2 columns."
      ]
    },
    {
      "cell_type": "code",
      "execution_count": 16,
      "metadata": {
        "colab": {
          "base_uri": "https://localhost:8080/"
        },
        "id": "h8SJjYFZBVqc",
        "outputId": "2a72d6bd-601a-4763-ab22-c837cf9c8806"
      },
      "outputs": [
        {
          "output_type": "execute_result",
          "data": {
            "text/plain": [
              "array([[-25.3, -22. ],\n",
              "       [-16. ,  -7.4],\n",
              "       [ -2.8,   1.3],\n",
              "       [  4.9,   4.6],\n",
              "       [ -0.9,  -7.7],\n",
              "       [-12. , -24. ]])"
            ]
          },
          "metadata": {},
          "execution_count": 16
        }
      ],
      "source": [
        "# Reshape the record low temperatures\n",
        "record_low_temperatures = berlin_weather_list[2, :]\\\n",
        "                            .reshape(6, 2)\\\n",
        "                            .copy()\n",
        "\n",
        "record_low_temperatures"
      ]
    },
    {
      "cell_type": "markdown",
      "metadata": {
        "id": "aRYl0GijBVqd"
      },
      "source": [
        "### Exercise 4b:\n",
        "Take average of pairs of consecutive months of the record low temeratures.\n",
        "\n",
        "<i>Hint: </i> Use what you found in Exercise 4a and the mean method."
      ]
    },
    {
      "cell_type": "code",
      "execution_count": 17,
      "metadata": {
        "colab": {
          "base_uri": "https://localhost:8080/"
        },
        "id": "85M78u6ZBVqe",
        "outputId": "b16c07e3-dc13-40ce-ecca-b63a517c2ed2"
      },
      "outputs": [
        {
          "output_type": "execute_result",
          "data": {
            "text/plain": [
              "array([-23.65, -11.7 ,  -0.75,   4.75,  -4.3 , -18.  ])"
            ]
          },
          "metadata": {},
          "execution_count": 17
        }
      ],
      "source": [
        "# Take average of pairs of consecutive months.\n",
        "record_low_temperatures.mean(axis=1)"
      ]
    },
    {
      "cell_type": "markdown",
      "metadata": {
        "id": "NeWSOSFcBVqf"
      },
      "source": [
        "## Exercise 5: Max and Min\n",
        "Find the maximum and minimum values over all the rows."
      ]
    },
    {
      "cell_type": "code",
      "execution_count": 18,
      "metadata": {
        "colab": {
          "base_uri": "https://localhost:8080/"
        },
        "id": "c7WiTY4YBVqf",
        "outputId": "7151e89d-5d24-4b1a-fd74-a5f98ef03c27"
      },
      "outputs": [
        {
          "output_type": "execute_result",
          "data": {
            "text/plain": [
              "array([38. , 19.1,  4.9])"
            ]
          },
          "metadata": {},
          "execution_count": 18
        }
      ],
      "source": [
        "# The max over all the rows\n",
        "berlin_weather_list.max(axis=1)"
      ]
    },
    {
      "cell_type": "code",
      "execution_count": 19,
      "metadata": {
        "scrolled": true,
        "colab": {
          "base_uri": "https://localhost:8080/"
        },
        "id": "ZvxL8u6oBVqg",
        "outputId": "dd8287df-ea08-4d17-c100-4bc9b98ae795"
      },
      "outputs": [
        {
          "output_type": "execute_result",
          "data": {
            "text/plain": [
              "array([ 15.1,   0.1, -25.3])"
            ]
          },
          "metadata": {},
          "execution_count": 19
        }
      ],
      "source": [
        "# The min over all the rows\n",
        "berlin_weather_list.min(axis=1)"
      ]
    },
    {
      "cell_type": "markdown",
      "metadata": {
        "id": "N5rBTdQ9BVqh"
      },
      "source": [
        "## Exercise 6: Boolean Matrices"
      ]
    },
    {
      "cell_type": "markdown",
      "metadata": {
        "id": "CfrE4QpSBVqh"
      },
      "source": [
        "### Exercise 6a:\n",
        "For how many rows are the average temperature over 10 degrees Celsius?"
      ]
    },
    {
      "cell_type": "code",
      "execution_count": 21,
      "metadata": {
        "colab": {
          "base_uri": "https://localhost:8080/"
        },
        "id": "39PqR1JaBVqi",
        "outputId": "5e33e844-dbda-4e59-d0cd-82fe6cb4c55d"
      },
      "outputs": [
        {
          "output_type": "execute_result",
          "data": {
            "text/plain": [
              "array([12,  5,  0])"
            ]
          },
          "metadata": {},
          "execution_count": 21
        }
      ],
      "source": [
        "# The total number of months with average over 10 degrees Celsius\n",
        "(berlin_weather_list > 10).sum(axis=1)"
      ]
    },
    {
      "cell_type": "markdown",
      "metadata": {
        "id": "eQgtfYCiBVqj"
      },
      "source": [
        "### Exercise 6b:\n",
        "Are there months where the record high is subzero?"
      ]
    },
    {
      "cell_type": "code",
      "execution_count": 22,
      "metadata": {
        "colab": {
          "base_uri": "https://localhost:8080/"
        },
        "id": "MdtnrCQGBVqk",
        "outputId": "e4fcdea1-64a1-48c8-9f6b-0fd751e652bf"
      },
      "outputs": [
        {
          "output_type": "execute_result",
          "data": {
            "text/plain": [
              "True"
            ]
          },
          "metadata": {},
          "execution_count": 22
        }
      ],
      "source": [
        "# Any record highs below zero?\n",
        "(berlin_weather_list < 0).any()"
      ]
    },
    {
      "cell_type": "markdown",
      "metadata": {
        "id": "1HWZmYlXBVql"
      },
      "source": [
        "What about months where the daily average is subzero?"
      ]
    },
    {
      "cell_type": "code",
      "execution_count": 23,
      "metadata": {
        "colab": {
          "base_uri": "https://localhost:8080/"
        },
        "id": "I9jr_iFpBVql",
        "outputId": "e4ec25fb-3954-401f-8c5a-203db14fda4c"
      },
      "outputs": [
        {
          "output_type": "execute_result",
          "data": {
            "text/plain": [
              "True"
            ]
          },
          "metadata": {},
          "execution_count": 23
        }
      ],
      "source": [
        "# Any averages below zero?\n",
        "(berlin_weather_list.mean(axis=1) < 0).any()"
      ]
    },
    {
      "cell_type": "markdown",
      "metadata": {
        "id": "G3vw-F6RBVqm"
      },
      "source": [
        "## Moral of the Story"
      ]
    },
    {
      "cell_type": "markdown",
      "metadata": {
        "id": "kSOdh8IkBVqn"
      },
      "source": [
        "In this exercise set, we have seen that reshaping and other techniques are vital for handeling data. Being comfortable with matricies in NumPy is a valuable skill."
      ]
    }
  ],
  "metadata": {
    "kernelspec": {
      "display_name": "Python 3",
      "language": "python",
      "name": "python3"
    },
    "language_info": {
      "codemirror_mode": {
        "name": "ipython",
        "version": 3
      },
      "file_extension": ".py",
      "mimetype": "text/x-python",
      "name": "python",
      "nbconvert_exporter": "python",
      "pygments_lexer": "ipython3",
      "version": "3.8.5"
    },
    "colab": {
      "provenance": []
    }
  },
  "nbformat": 4,
  "nbformat_minor": 0
}