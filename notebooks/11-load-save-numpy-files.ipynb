{
 "cells": [
  {
   "cell_type": "markdown",
   "metadata": {},
   "source": [
    "# 11 Exercise - Saving and Loading Data"
   ]
  },
  {
   "cell_type": "markdown",
   "metadata": {},
   "source": [
    "In this final exercise set, we are going to go through how to save and load data. Since this is a final exercise set we will use several things that we learned previously in the course. We will use the \"Boston dataset\" containing information about houses sold in the Boston area. Below is a description of the columns and rows of the dataset."
   ]
  },
  {
   "cell_type": "markdown",
   "metadata": {},
   "source": [
    "## Boston House Prices Dataset\n",
    "<b>Data Set Characteristics:</b>\n",
    "\n",
    " - Number of Instances (Rows): 506\n",
    " - Number of Attributes (Columns): 14\n",
    " - Attribute Information (in order):  \n",
    "  - Column 00 - Per capita crime rate by town\n",
    "  - Column 01 - Proportion of residential land zoned for lots over 25,000 sq.ft.\n",
    "  - Column 02 - Proportion of non-retail business acres per town\n",
    "  - Column 03 - Charles River dummy variable (= 1 if tract bounds river; 0 otherwise)\n",
    "  - Column 04 - Nitric oxides concentration (parts per 10 million)\n",
    "  - Column 05 - Average number of rooms per dwelling\n",
    "  - Column 06 - Proportion of owner-occupied units built prior to 1940\n",
    "  - Column 07 - Weighted distances to five Boston employment centers\n",
    "  - Column 08 - Index of accessibility to radial highways\n",
    "  - Column 09 - Full-value property-tax rate per \\\\$10,000\n",
    "  - Column 10 - Pupil-teacher ratio by town\n",
    "  - Column 11 - $1000(Bk - 0.63)^2$ where $Bk$ is the proportion of blacks by town\n",
    "  - Column 12 - Lower status percentage of the population\n",
    "  - Column 13 - Median value of owner-occupied homes in \\\\$1000's\n",
    "        \n",
    " - Missing Attribute Values: None  \n",
    " - Creator: Harrison, D. and Rubinfeld, D.L.\n",
    "    \n",
    "----------------------------\n",
    "\n",
    "This is a copy of UCI ML housing dataset.\n",
    "\n",
    "https://archive.ics.uci.edu/ml/machine-learning-databases/housing/\n",
    "\n",
    "This dataset was taken from the StatLib library which is maintained at Carnegie Mellon University.\n",
    "This particular version of the dataset is taken from the package sklearn."
   ]
  },
  {
   "cell_type": "markdown",
   "metadata": {},
   "source": [
    "## Exercise 1: Import the Packages"
   ]
  },
  {
   "cell_type": "code",
   "execution_count": 1,
   "metadata": {},
   "outputs": [],
   "source": [
    "# Import NumPy and MatPlotLib\n",
    "import numpy as np\n",
    "from matplotlib import pyplot as plt"
   ]
  },
  {
   "cell_type": "markdown",
   "metadata": {},
   "source": [
    "## Exercise 2: Read in the File"
   ]
  },
  {
   "cell_type": "markdown",
   "metadata": {},
   "source": [
    "Let us now read in the Boston dataset from a file."
   ]
  },
  {
   "cell_type": "code",
   "execution_count": 3,
   "metadata": {},
   "outputs": [
    {
     "data": {
      "text/plain": [
       "(506, 14)"
      ]
     },
     "execution_count": 3,
     "metadata": {},
     "output_type": "execute_result"
    }
   ],
   "source": [
    "# Read in the boston.csv file as a NumPy array. Call the variable \"boston\".\n",
    "boston = np.loadtxt('./data/raw/boston.csv', delimiter=',')\n",
    "\n",
    "# HINT: You should specify that delimiter=\",\".\n",
    "\n",
    "# Find the shape of the dataset.\n",
    "boston.shape"
   ]
  },
  {
   "cell_type": "markdown",
   "metadata": {},
   "source": [
    "Try to print out the Boston dataset. What happens to the printed object? Why do you think this happens?"
   ]
  },
  {
   "cell_type": "code",
   "execution_count": 4,
   "metadata": {},
   "outputs": [
    {
     "data": {
      "text/plain": [
       "array([[6.3000e-03, 1.8000e+01, 2.3100e+00, ..., 3.9690e+02, 4.9800e+00,\n",
       "        2.4000e+01],\n",
       "       [2.7300e-02, 0.0000e+00, 7.0700e+00, ..., 3.9690e+02, 9.1400e+00,\n",
       "        2.1600e+01],\n",
       "       [2.7300e-02, 0.0000e+00, 7.0700e+00, ..., 3.9283e+02, 4.0300e+00,\n",
       "        3.4700e+01],\n",
       "       ...,\n",
       "       [6.0800e-02, 0.0000e+00, 1.1930e+01, ..., 3.9690e+02, 5.6400e+00,\n",
       "        2.3900e+01],\n",
       "       [1.0960e-01, 0.0000e+00, 1.1930e+01, ..., 3.9345e+02, 6.4800e+00,\n",
       "        2.2000e+01],\n",
       "       [4.7400e-02, 0.0000e+00, 1.1930e+01, ..., 3.9690e+02, 7.8800e+00,\n",
       "        1.1900e+01]])"
      ]
     },
     "execution_count": 4,
     "metadata": {},
     "output_type": "execute_result"
    }
   ],
   "source": [
    "# Print out the dataset\n",
    "boston"
   ]
  },
  {
   "cell_type": "markdown",
   "metadata": {},
   "source": [
    "## Exercise 3: Plotting the Rooms"
   ]
  },
  {
   "cell_type": "markdown",
   "metadata": {},
   "source": [
    "Plot a histogram using the average number of rooms (column 5). Are there any houses with an average over 10 rooms?"
   ]
  },
  {
   "cell_type": "code",
   "execution_count": 13,
   "metadata": {},
   "outputs": [
    {
     "name": "stdout",
     "output_type": "stream",
     "text": [
      "Average 6.284634387351779\n",
      "Any house with average over 10 False\n"
     ]
    }
   ],
   "source": [
    "# Plot a histogram using the average number of rooms.\n",
    "print('Average', boston[:, 5].mean())\n",
    "print('Any house with average over 10', (boston[:, 5] > 10).any())"
   ]
  },
  {
   "cell_type": "markdown",
   "metadata": {},
   "source": [
    "Plot the price of the houses (column 13) as a histogram. Where is the peak (also called the mode) of the histogram?"
   ]
  },
  {
   "cell_type": "code",
   "execution_count": 18,
   "metadata": {},
   "outputs": [
    {
     "data": {
      "text/plain": [
       "Text(0, 0.5, 'Count')"
      ]
     },
     "execution_count": 18,
     "metadata": {},
     "output_type": "execute_result"
    },
    {
     "data": {
      "image/png": "[encoded data removed]",
      "text/plain": [
       "<Figure size 640x480 with 1 Axes>"
      ]
     },
     "metadata": {},
     "output_type": "display_data"
    }
   ],
   "source": [
    "# Plot the price of the houses as a histogram.\n",
    "plt.hist(boston[:, 13], bins=20)\n",
    "plt.title('Houses price - Histogram')\n",
    "plt.xlabel('Quantity')\n",
    "plt.ylabel('Count')"
   ]
  },
  {
   "cell_type": "markdown",
   "metadata": {},
   "source": [
    "Create a scatter plot over number of rooms (column 5) and the house price (column 13). Can you see a trend?"
   ]
  },
  {
   "cell_type": "code",
   "execution_count": 21,
   "metadata": {},
   "outputs": [
    {
     "data": {
      "text/plain": [
       "Text(0, 0.5, 'Price')"
      ]
     },
     "execution_count": 21,
     "metadata": {},
     "output_type": "execute_result"
    },
    {
     "data": {
      "image/png": "[encoded data removed]",
      "text/plain": [
       "<Figure size 640x480 with 1 Axes>"
      ]
     },
     "metadata": {},
     "output_type": "display_data"
    }
   ],
   "source": [
    "# Create a scatter plot over number of rooms and the house price.\n",
    "plt.scatter(boston[:, 5],\n",
    "            boston[:, 13])\n",
    "plt.title('Average rooms vs. Price')\n",
    "plt.xlabel('Avg. Rooms')\n",
    "plt.ylabel('Price')"
   ]
  },
  {
   "cell_type": "markdown",
   "metadata": {},
   "source": [
    "## Exercise 4: Count Riverside Houses"
   ]
  },
  {
   "cell_type": "markdown",
   "metadata": {},
   "source": [
    "The third column in the dataset is represented by what is called a <b>dummy variable</b>. This is when one represents different categories with numbers. In our case, the two categories are represented by\n",
    "\n",
    "- House by the riverside - 1\n",
    "- House not by the riverside - 0"
   ]
  },
  {
   "cell_type": "code",
   "execution_count": 24,
   "metadata": {},
   "outputs": [
    {
     "name": "stdout",
     "output_type": "stream",
     "text": [
      "How many houses by the river? 35\n"
     ]
    }
   ],
   "source": [
    "# Use NumPy to figure out how many of the houses is by the river (column 3).\n",
    "print('How many houses by the river?', (boston[:, 3] == 1).sum())"
   ]
  },
  {
   "cell_type": "code",
   "execution_count": 30,
   "metadata": {},
   "outputs": [
    {
     "name": "stdout",
     "output_type": "stream",
     "text": [
      "How many percent of the total houses sold was by the river? 6.91699604743083\n"
     ]
    }
   ],
   "source": [
    "# How many percent of the total houses sold was by the river?\n",
    "print('How many percent of the total houses sold was by the river?',\n",
    "      ((boston[:, 3] == 1).sum() / boston.shape[0]) * 100)"
   ]
  },
  {
   "cell_type": "markdown",
   "metadata": {},
   "source": [
    "## Exercise 5: Averages, min, and max."
   ]
  },
  {
   "cell_type": "code",
   "execution_count": 43,
   "metadata": {},
   "outputs": [
    {
     "name": "stdout",
     "output_type": "stream",
     "text": [
      "Boston MEAN\n",
      " [3.61352510e+00 1.13636364e+01 1.11367787e+01 6.91699605e-02\n",
      " 5.54695059e-01 6.28463439e+00 6.85749012e+01 3.79504269e+00\n",
      " 9.54940711e+00 4.08237154e+02 1.84555336e+01 3.56674032e+02\n",
      " 1.26530632e+01 2.25328063e+01]\n",
      "\n",
      "Boston MIN\n",
      " [6.3000e-03 0.0000e+00 4.6000e-01 0.0000e+00 3.8500e-01 3.5610e+00\n",
      " 2.9000e+00 1.1296e+00 1.0000e+00 1.8700e+02 1.2600e+01 3.2000e-01\n",
      " 1.7300e+00 5.0000e+00]\n",
      "\n",
      "Boston MAX\n",
      " [ 88.9762 100.      27.74     1.       0.871    8.78   100.      12.1265\n",
      "  24.     711.      22.     396.9     37.97    50.    ]\n",
      "\n"
     ]
    }
   ],
   "source": [
    "# What is the average, min, and max in each column?\n",
    "for func in ['mean', 'min', 'max']:\n",
    "    print(f'Boston {func.upper()}\\n', \n",
    "          getattr(boston, func)(axis=0),\n",
    "          end='\\n\\n')"
   ]
  },
  {
   "cell_type": "code",
   "execution_count": 45,
   "metadata": {},
   "outputs": [
    {
     "name": "stdout",
     "output_type": "stream",
     "text": [
      "Boston mean price 22.532806324110677\n",
      "Boston max price 50.0\n",
      "Boston min price 5.0\n"
     ]
    }
   ],
   "source": [
    "# In particular, what is the average, max, and min price (column 13) in dollars of the houses?\n",
    "for func in ['mean', 'max', 'min']:\n",
    "    print(f'Boston {func} price',\n",
    "          getattr(boston[:, 13], func)())"
   ]
  },
  {
   "cell_type": "markdown",
   "metadata": {},
   "source": [
    "## Exercise 6: Cheap Housing"
   ]
  },
  {
   "cell_type": "markdown",
   "metadata": {},
   "source": [
    "Let us say that a cheap house is a house that costs less than \\\\$10 000. Below you will find out how many cheap houses that are in the Boston area."
   ]
  },
  {
   "cell_type": "code",
   "execution_count": 51,
   "metadata": {},
   "outputs": [
    {
     "name": "stdout",
     "output_type": "stream",
     "text": [
      "Cheap houses 24\n"
     ]
    }
   ],
   "source": [
    "# Find the number of cheap houses.\n",
    "print('Cheap houses', (boston[:, 13] < 10).sum())"
   ]
  },
  {
   "cell_type": "markdown",
   "metadata": {},
   "source": [
    "Does the cheap houses have a higher crime rate (column 0) than an average priced house? Let us say that the average priced houses has a price between \\\\$15 000 and \\\\$30 000."
   ]
  },
  {
   "cell_type": "code",
   "execution_count": 69,
   "metadata": {},
   "outputs": [
    {
     "name": "stdout",
     "output_type": "stream",
     "text": [
      "Mean crime rate 22.059316666666664\n",
      "Mean crime rate for 15K-30K houses 64.92178894505494\n"
     ]
    }
   ],
   "source": [
    "# Find the mean crime rate for cheap houses\n",
    "print('Mean crime rate', boston[boston[:, 13] < 10, 0].mean())\n",
    "\n",
    "# Find the mean crime rate for average priced houses\n",
    "print('Mean crime rate for 15K-30K houses', \n",
    "      boston[(boston[:, 13] > 15) & (boston[:, 13] < 30)].mean())\n",
    "\n",
    "# Compare the two numbers\n"
   ]
  },
  {
   "cell_type": "markdown",
   "metadata": {},
   "source": [
    "## Exercise 7: Save the Data"
   ]
  },
  {
   "cell_type": "markdown",
   "metadata": {},
   "source": [
    "Now is the time to save the data for later. We are only interested in the columns 0, 3, 5, and 13, so we will only save those."
   ]
  },
  {
   "cell_type": "code",
   "execution_count": 26,
   "metadata": {},
   "outputs": [],
   "source": [
    "# Define a new array called short_boston with the columns 0, 3, 5, 13 from the boston array.\n",
    "short_boston = np.array(boston[:, [0, 3, 5, 13]])\n",
    "\n",
    "# Save the array short_boston as a numpy object for later.\n",
    "np.save('./data/interim/short_boston', short_boston)"
   ]
  },
  {
   "cell_type": "code",
   "execution_count": 28,
   "metadata": {},
   "outputs": [
    {
     "data": {
      "text/plain": [
       "(506, 4)"
      ]
     },
     "execution_count": 28,
     "metadata": {},
     "output_type": "execute_result"
    }
   ],
   "source": [
    "np.load('./data/interim/short_boston.npy').shape"
   ]
  },
  {
   "cell_type": "markdown",
   "metadata": {},
   "source": [
    "## Moral of the Story"
   ]
  },
  {
   "cell_type": "markdown",
   "metadata": {},
   "source": [
    "Rather than typing in NumPy arrays by hand, it is more common in practice to load data from an external file. We have seen that the file can be a text file, a csv file, or a NumPy file. When one is finished working with the data, then one can save the data into the appropriate format for later use. A great place to find more data to play around with is the site Kaggle: https://www.kaggle.com/"
   ]
  }
 ],
 "metadata": {
  "kernelspec": {
   "display_name": "Python 3 (ipykernel)",
   "language": "python",
   "name": "python3"
  },
  "language_info": {
   "codemirror_mode": {
    "name": "ipython",
    "version": 3
   },
   "file_extension": ".py",
   "mimetype": "text/x-python",
   "name": "python",
   "nbconvert_exporter": "python",
   "pygments_lexer": "ipython3",
   "version": "3.11.6"
  }
 },
 "nbformat": 4,
 "nbformat_minor": 4
}
