{
  "nbformat": 4,
  "nbformat_minor": 0,
  "metadata": {
    "colab": {
      "provenance": []
    },
    "kernelspec": {
      "name": "python3",
      "display_name": "Python 3"
    },
    "language_info": {
      "name": "python"
    }
  },
  "cells": [
    {
      "cell_type": "code",
      "source": [
        "import numpy as np"
      ],
      "metadata": {
        "id": "xMmRzN5fMQIg"
      },
      "execution_count": null,
      "outputs": []
    },
    {
      "cell_type": "code",
      "execution_count": null,
      "metadata": {
        "id": "KMZmnp5HMD0T"
      },
      "outputs": [],
      "source": [
        "first_vector = np.array([1, 2, 4])\n",
        "second_vector = np.array([2, -1, 9])"
      ]
    },
    {
      "cell_type": "code",
      "source": [
        "first_matrix = np.array([[1, 2, 9],\n",
        "                         [3, 10, -2],\n",
        "                         [-3, 5, 3]])\n",
        "\n",
        "second_matrix = np.array([[1, 2, 9],\n",
        "                          [0, 0, -2],\n",
        "                          [-3, 8, 3]])"
      ],
      "metadata": {
        "id": "BL25BUmAMSCw"
      },
      "execution_count": null,
      "outputs": []
    },
    {
      "cell_type": "markdown",
      "source": [
        "### Vector addition"
      ],
      "metadata": {
        "id": "DtODG_xVMree"
      }
    },
    {
      "cell_type": "code",
      "source": [
        "first_vector + second_vector"
      ],
      "metadata": {
        "colab": {
          "base_uri": "https://localhost:8080/"
        },
        "id": "y5xHknrdM_-Z",
        "outputId": "32f209ac-2a49-4277-f0e0-c2e7494b0227"
      },
      "execution_count": null,
      "outputs": [
        {
          "output_type": "execute_result",
          "data": {
            "text/plain": [
              "array([ 3,  1, 13])"
            ]
          },
          "metadata": {},
          "execution_count": 110
        }
      ]
    },
    {
      "cell_type": "markdown",
      "source": [
        "### Vector subtraction"
      ],
      "metadata": {
        "id": "5iuInarYMutF"
      }
    },
    {
      "cell_type": "code",
      "source": [
        "first_vector - second_vector"
      ],
      "metadata": {
        "colab": {
          "base_uri": "https://localhost:8080/"
        },
        "id": "JLfywW_PNAW6",
        "outputId": "f70428bd-6334-473e-bef1-a01343cf8ec7"
      },
      "execution_count": null,
      "outputs": [
        {
          "output_type": "execute_result",
          "data": {
            "text/plain": [
              "array([-1,  3, -5])"
            ]
          },
          "metadata": {},
          "execution_count": 111
        }
      ]
    },
    {
      "cell_type": "markdown",
      "source": [
        "### Matrix addition"
      ],
      "metadata": {
        "id": "tkSuUBIjMu-h"
      }
    },
    {
      "cell_type": "code",
      "source": [
        "first_matrix + second_matrix"
      ],
      "metadata": {
        "colab": {
          "base_uri": "https://localhost:8080/"
        },
        "id": "qfmB2KbhNAqZ",
        "outputId": "f3ac22a7-6599-4bbb-f6d0-ee68fbd9e88b"
      },
      "execution_count": null,
      "outputs": [
        {
          "output_type": "execute_result",
          "data": {
            "text/plain": [
              "array([[ 2,  4, 18],\n",
              "       [ 3, 10, -4],\n",
              "       [-6, 13,  6]])"
            ]
          },
          "metadata": {},
          "execution_count": 112
        }
      ]
    },
    {
      "cell_type": "markdown",
      "source": [
        "### Matrix subtraction"
      ],
      "metadata": {
        "id": "BtQqCdZOMvLf"
      }
    },
    {
      "cell_type": "code",
      "source": [
        "first_matrix - second_matrix"
      ],
      "metadata": {
        "colab": {
          "base_uri": "https://localhost:8080/"
        },
        "id": "-IUwcr8vMkcw",
        "outputId": "493b1629-c252-4053-d8d6-70f8f92a75bf"
      },
      "execution_count": null,
      "outputs": [
        {
          "output_type": "execute_result",
          "data": {
            "text/plain": [
              "array([[ 0,  0,  0],\n",
              "       [ 3, 10,  0],\n",
              "       [ 0, -3,  0]])"
            ]
          },
          "metadata": {},
          "execution_count": 113
        }
      ]
    },
    {
      "cell_type": "markdown",
      "source": [
        "### Scalar multiplication vector"
      ],
      "metadata": {
        "id": "Y8MoxO06Mve8"
      }
    },
    {
      "cell_type": "code",
      "source": [
        "2 * first_vector"
      ],
      "metadata": {
        "colab": {
          "base_uri": "https://localhost:8080/"
        },
        "id": "mGeTvUmpNBJO",
        "outputId": "6dcb4309-80a5-44d5-f05b-fe0a61781523"
      },
      "execution_count": null,
      "outputs": [
        {
          "output_type": "execute_result",
          "data": {
            "text/plain": [
              "array([2, 4, 8])"
            ]
          },
          "metadata": {},
          "execution_count": 114
        }
      ]
    },
    {
      "cell_type": "markdown",
      "source": [
        "### Scalar multiplication matrix"
      ],
      "metadata": {
        "id": "CirjKe8nM4RF"
      }
    },
    {
      "cell_type": "code",
      "source": [
        "2 * first_matrix"
      ],
      "metadata": {
        "colab": {
          "base_uri": "https://localhost:8080/"
        },
        "id": "S1btzS7ENBhX",
        "outputId": "4371fc03-2bff-453e-b6ec-87368d6f03a7"
      },
      "execution_count": null,
      "outputs": [
        {
          "output_type": "execute_result",
          "data": {
            "text/plain": [
              "array([[ 2,  4, 18],\n",
              "       [ 6, 20, -4],\n",
              "       [-6, 10,  6]])"
            ]
          },
          "metadata": {},
          "execution_count": 115
        }
      ]
    },
    {
      "cell_type": "markdown",
      "source": [
        "### Dot product"
      ],
      "metadata": {
        "id": "VnhNxnUANhRX"
      }
    },
    {
      "cell_type": "code",
      "source": [
        "np.dot(first_vector, second_vector)"
      ],
      "metadata": {
        "colab": {
          "base_uri": "https://localhost:8080/"
        },
        "id": "XYGavjHINfxv",
        "outputId": "80b88ab2-4ea5-4a4a-d5cc-ebf7ae523b82"
      },
      "execution_count": null,
      "outputs": [
        {
          "output_type": "execute_result",
          "data": {
            "text/plain": [
              "36"
            ]
          },
          "metadata": {},
          "execution_count": 116
        }
      ]
    },
    {
      "cell_type": "code",
      "source": [
        "def are_orthogonal(vec_1, vec_2):\n",
        "  return np.dot(vec_1, vec_2)"
      ],
      "metadata": {
        "id": "xnRfjpdjNtlt"
      },
      "execution_count": null,
      "outputs": []
    },
    {
      "cell_type": "code",
      "source": [
        "are_orthogonal(first_vector, second_vector)"
      ],
      "metadata": {
        "colab": {
          "base_uri": "https://localhost:8080/"
        },
        "id": "R6_IJIuEN4EO",
        "outputId": "d16412fb-c26c-46bf-ad2d-51637b4cccc8"
      },
      "execution_count": null,
      "outputs": [
        {
          "output_type": "execute_result",
          "data": {
            "text/plain": [
              "36"
            ]
          },
          "metadata": {},
          "execution_count": 118
        }
      ]
    },
    {
      "cell_type": "markdown",
      "source": [
        "### Cross product"
      ],
      "metadata": {
        "id": "coSrP1iGN8s_"
      }
    },
    {
      "cell_type": "code",
      "source": [
        "np.cross(first_vector, second_vector)"
      ],
      "metadata": {
        "colab": {
          "base_uri": "https://localhost:8080/"
        },
        "id": "U7SGhP8kN79f",
        "outputId": "f6fdad7f-69e4-4baf-82bb-68b2389a2450"
      },
      "execution_count": null,
      "outputs": [
        {
          "output_type": "execute_result",
          "data": {
            "text/plain": [
              "array([22, -1, -5])"
            ]
          },
          "metadata": {},
          "execution_count": 119
        }
      ]
    },
    {
      "cell_type": "code",
      "source": [
        "np.cross(np.arange(2), np.arange(1, 3))"
      ],
      "metadata": {
        "colab": {
          "base_uri": "https://localhost:8080/"
        },
        "id": "X04dy6tyOHaO",
        "outputId": "4acef729-c25d-4688-e75f-545e0e452231"
      },
      "execution_count": null,
      "outputs": [
        {
          "output_type": "execute_result",
          "data": {
            "text/plain": [
              "array(-1)"
            ]
          },
          "metadata": {},
          "execution_count": 120
        }
      ]
    },
    {
      "cell_type": "code",
      "source": [
        "cross = np.cross(first_vector, second_vector)"
      ],
      "metadata": {
        "id": "yZ1gmrw-OL-c"
      },
      "execution_count": null,
      "outputs": []
    },
    {
      "cell_type": "code",
      "source": [
        "np.dot(first_vector, cross)"
      ],
      "metadata": {
        "colab": {
          "base_uri": "https://localhost:8080/"
        },
        "id": "G6_4xWhrObJf",
        "outputId": "e36962a9-c42d-4fe4-cbc1-237340e08527"
      },
      "execution_count": null,
      "outputs": [
        {
          "output_type": "execute_result",
          "data": {
            "text/plain": [
              "0"
            ]
          },
          "metadata": {},
          "execution_count": 122
        }
      ]
    },
    {
      "cell_type": "code",
      "source": [
        "np.dot(second_vector, cross)"
      ],
      "metadata": {
        "colab": {
          "base_uri": "https://localhost:8080/"
        },
        "id": "yiNaDPg6Obpv",
        "outputId": "2cc8e569-7c81-4258-f255-14fc8e491844"
      },
      "execution_count": null,
      "outputs": [
        {
          "output_type": "execute_result",
          "data": {
            "text/plain": [
              "0"
            ]
          },
          "metadata": {},
          "execution_count": 123
        }
      ]
    },
    {
      "cell_type": "markdown",
      "source": [
        "##@ More complex algebra"
      ],
      "metadata": {
        "id": "KVqqZ3PZOia2"
      }
    },
    {
      "cell_type": "code",
      "source": [
        "from numpy import linalg"
      ],
      "metadata": {
        "id": "hlOvgkrjOd50"
      },
      "execution_count": null,
      "outputs": []
    },
    {
      "cell_type": "markdown",
      "source": [
        "## Length of vector"
      ],
      "metadata": {
        "id": "DOL7cPh0OlpF"
      }
    },
    {
      "cell_type": "code",
      "source": [
        "linalg.norm(first_vector)"
      ],
      "metadata": {
        "colab": {
          "base_uri": "https://localhost:8080/"
        },
        "id": "05L_xsowOhEk",
        "outputId": "999c94ba-eb05-45d7-e84c-fdbcd5b60ee8"
      },
      "execution_count": null,
      "outputs": [
        {
          "output_type": "execute_result",
          "data": {
            "text/plain": [
              "4.58257569495584"
            ]
          },
          "metadata": {},
          "execution_count": 125
        }
      ]
    },
    {
      "cell_type": "code",
      "source": [
        "linalg.norm(second_vector)"
      ],
      "metadata": {
        "colab": {
          "base_uri": "https://localhost:8080/"
        },
        "id": "iXV456qYOrQN",
        "outputId": "8fb15058-a4a1-4155-a171-f4da1503d517"
      },
      "execution_count": null,
      "outputs": [
        {
          "output_type": "execute_result",
          "data": {
            "text/plain": [
              "9.273618495495704"
            ]
          },
          "metadata": {},
          "execution_count": 126
        }
      ]
    },
    {
      "cell_type": "code",
      "source": [
        "linalg.norm(first_matrix)"
      ],
      "metadata": {
        "colab": {
          "base_uri": "https://localhost:8080/"
        },
        "id": "x3kimXGgOtLd",
        "outputId": "6fdeea39-50ab-4fa6-9070-ba90645d36d5"
      },
      "execution_count": null,
      "outputs": [
        {
          "output_type": "execute_result",
          "data": {
            "text/plain": [
              "15.556349186104045"
            ]
          },
          "metadata": {},
          "execution_count": 127
        }
      ]
    },
    {
      "cell_type": "code",
      "source": [
        "linalg.norm(second_matrix)"
      ],
      "metadata": {
        "colab": {
          "base_uri": "https://localhost:8080/"
        },
        "id": "zkpUAUucOuqA",
        "outputId": "dec719b6-1b3b-479f-f6a3-50819f81a8fb"
      },
      "execution_count": null,
      "outputs": [
        {
          "output_type": "execute_result",
          "data": {
            "text/plain": [
              "13.114877048604"
            ]
          },
          "metadata": {},
          "execution_count": 128
        }
      ]
    },
    {
      "cell_type": "code",
      "source": [
        "def angle(vec_1, vec_2):\n",
        "  cos_angle = np.dot(vec_1, vec_2) / (linalg.norm(vec_1) * linalg.norm(vec_2))\n",
        "  return np.arccos(cos_angle)"
      ],
      "metadata": {
        "id": "nq_wurd0OxZ-"
      },
      "execution_count": null,
      "outputs": []
    },
    {
      "cell_type": "code",
      "source": [
        "angle(first_vector, second_vector)"
      ],
      "metadata": {
        "colab": {
          "base_uri": "https://localhost:8080/"
        },
        "id": "Qj5nYjL1PAp-",
        "outputId": "68522589-4d3a-4e75-a1bd-6ecda12b4db3"
      },
      "execution_count": null,
      "outputs": [
        {
          "output_type": "execute_result",
          "data": {
            "text/plain": [
              "0.5602591049467772"
            ]
          },
          "metadata": {},
          "execution_count": 130
        }
      ]
    },
    {
      "cell_type": "markdown",
      "source": [
        "### Matrix product"
      ],
      "metadata": {
        "id": "YCtovrxYPbzQ"
      }
    },
    {
      "cell_type": "code",
      "source": [
        "first_matrix @ second_matrix"
      ],
      "metadata": {
        "colab": {
          "base_uri": "https://localhost:8080/"
        },
        "id": "iVB8TsK9PdVN",
        "outputId": "14bafbed-d503-4150-d108-48f004194297"
      },
      "execution_count": null,
      "outputs": [
        {
          "output_type": "execute_result",
          "data": {
            "text/plain": [
              "array([[-26,  74,  32],\n",
              "       [  9, -10,   1],\n",
              "       [-12,  18, -28]])"
            ]
          },
          "metadata": {},
          "execution_count": 131
        }
      ]
    },
    {
      "cell_type": "code",
      "source": [
        "first_matrix @ first_vector"
      ],
      "metadata": {
        "colab": {
          "base_uri": "https://localhost:8080/"
        },
        "id": "T647xqgIPtbe",
        "outputId": "230af10a-7f55-42ab-edce-756d8e4a7549"
      },
      "execution_count": null,
      "outputs": [
        {
          "output_type": "execute_result",
          "data": {
            "text/plain": [
              "array([41, 15, 19])"
            ]
          },
          "metadata": {},
          "execution_count": 132
        }
      ]
    },
    {
      "cell_type": "code",
      "source": [
        "np.matmul(first_matrix, first_vector)"
      ],
      "metadata": {
        "colab": {
          "base_uri": "https://localhost:8080/"
        },
        "id": "xQZdy6NkPwhC",
        "outputId": "40fa9942-3b99-48c4-9623-a96e0b90370c"
      },
      "execution_count": null,
      "outputs": [
        {
          "output_type": "execute_result",
          "data": {
            "text/plain": [
              "array([41, 15, 19])"
            ]
          },
          "metadata": {},
          "execution_count": 133
        }
      ]
    },
    {
      "cell_type": "code",
      "source": [
        "np.eye(3) @ first_matrix"
      ],
      "metadata": {
        "colab": {
          "base_uri": "https://localhost:8080/"
        },
        "id": "TZVJjOK5P0je",
        "outputId": "c55a9a72-1c86-408f-ebcb-9dfc70b1a537"
      },
      "execution_count": null,
      "outputs": [
        {
          "output_type": "execute_result",
          "data": {
            "text/plain": [
              "array([[ 1.,  2.,  9.],\n",
              "       [ 3., 10., -2.],\n",
              "       [-3.,  5.,  3.]])"
            ]
          },
          "metadata": {},
          "execution_count": 134
        }
      ]
    },
    {
      "cell_type": "code",
      "source": [
        "np.eye(3) @ first_vector"
      ],
      "metadata": {
        "colab": {
          "base_uri": "https://localhost:8080/"
        },
        "id": "_P2pe9n-P4Fh",
        "outputId": "cc244be7-a935-4f17-aff1-56eaf2f65ad7"
      },
      "execution_count": null,
      "outputs": [
        {
          "output_type": "execute_result",
          "data": {
            "text/plain": [
              "array([1., 2., 4.])"
            ]
          },
          "metadata": {},
          "execution_count": 135
        }
      ]
    },
    {
      "cell_type": "markdown",
      "source": [
        "### Matrix power"
      ],
      "metadata": {
        "id": "DhYfo4VnP6Be"
      }
    },
    {
      "cell_type": "code",
      "source": [
        "first_matrix @ first_matrix @ first_matrix @ first_matrix"
      ],
      "metadata": {
        "colab": {
          "base_uri": "https://localhost:8080/"
        },
        "id": "UAcFLQIjP5Uf",
        "outputId": "b9d6d016-9aca-4659-9380-212bb33984cb"
      },
      "execution_count": null,
      "outputs": [
        {
          "output_type": "execute_result",
          "data": {
            "text/plain": [
              "array([[ 3109,  6980, -1469],\n",
              "       [ 2967, 11888,  1316],\n",
              "       [ 2157,  4213,   939]])"
            ]
          },
          "metadata": {},
          "execution_count": 136
        }
      ]
    },
    {
      "cell_type": "code",
      "source": [
        "linalg.matrix_power(first_matrix, 4)"
      ],
      "metadata": {
        "colab": {
          "base_uri": "https://localhost:8080/"
        },
        "id": "-TKao194QD_S",
        "outputId": "fbcf42e3-85d8-401a-85c8-cdc7cf245770"
      },
      "execution_count": null,
      "outputs": [
        {
          "output_type": "execute_result",
          "data": {
            "text/plain": [
              "array([[ 3109,  6980, -1469],\n",
              "       [ 2967, 11888,  1316],\n",
              "       [ 2157,  4213,   939]])"
            ]
          },
          "metadata": {},
          "execution_count": 137
        }
      ]
    },
    {
      "cell_type": "markdown",
      "source": [
        "### Transpose"
      ],
      "metadata": {
        "id": "-ZEksYZoQKb6"
      }
    },
    {
      "cell_type": "code",
      "source": [
        "first_matrix"
      ],
      "metadata": {
        "colab": {
          "base_uri": "https://localhost:8080/"
        },
        "id": "Y8t-xAHlQMkd",
        "outputId": "9528be97-d188-47df-c779-8a9317669c00"
      },
      "execution_count": null,
      "outputs": [
        {
          "output_type": "execute_result",
          "data": {
            "text/plain": [
              "array([[ 1,  2,  9],\n",
              "       [ 3, 10, -2],\n",
              "       [-3,  5,  3]])"
            ]
          },
          "metadata": {},
          "execution_count": 138
        }
      ]
    },
    {
      "cell_type": "code",
      "source": [
        "first_matrix.T"
      ],
      "metadata": {
        "colab": {
          "base_uri": "https://localhost:8080/"
        },
        "id": "F5z8yQpDQQaN",
        "outputId": "c181dfe6-f53b-4e0b-b0c3-e4d963c5cbe0"
      },
      "execution_count": null,
      "outputs": [
        {
          "output_type": "execute_result",
          "data": {
            "text/plain": [
              "array([[ 1,  3, -3],\n",
              "       [ 2, 10,  5],\n",
              "       [ 9, -2,  3]])"
            ]
          },
          "metadata": {},
          "execution_count": 139
        }
      ]
    },
    {
      "cell_type": "code",
      "source": [
        "first_matrix.transpose()"
      ],
      "metadata": {
        "colab": {
          "base_uri": "https://localhost:8080/"
        },
        "id": "BgxgkiScQRzu",
        "outputId": "88ad5c5a-58d5-46f1-f492-13004d7fa6d8"
      },
      "execution_count": null,
      "outputs": [
        {
          "output_type": "execute_result",
          "data": {
            "text/plain": [
              "array([[ 1,  3, -3],\n",
              "       [ 2, 10,  5],\n",
              "       [ 9, -2,  3]])"
            ]
          },
          "metadata": {},
          "execution_count": 140
        }
      ]
    },
    {
      "cell_type": "markdown",
      "source": [
        "## Linear systems"
      ],
      "metadata": {
        "id": "mlAQUy4iQWp-"
      }
    },
    {
      "cell_type": "code",
      "source": [
        "linalg.det(first_matrix)"
      ],
      "metadata": {
        "colab": {
          "base_uri": "https://localhost:8080/"
        },
        "id": "Ztfr9pYuQY3C",
        "outputId": "8b72a7cf-3b2b-413b-fcf1-953f036176bf"
      },
      "execution_count": null,
      "outputs": [
        {
          "output_type": "execute_result",
          "data": {
            "text/plain": [
              "439.00000000000006"
            ]
          },
          "metadata": {},
          "execution_count": 141
        }
      ]
    },
    {
      "cell_type": "code",
      "source": [
        "linalg.det(second_matrix)"
      ],
      "metadata": {
        "colab": {
          "base_uri": "https://localhost:8080/"
        },
        "id": "TndqwfL1Q1Xu",
        "outputId": "8071f91c-8b18-4abd-f60e-c4694bc639b0"
      },
      "execution_count": null,
      "outputs": [
        {
          "output_type": "execute_result",
          "data": {
            "text/plain": [
              "28.00000000000001"
            ]
          },
          "metadata": {},
          "execution_count": 142
        }
      ]
    },
    {
      "cell_type": "code",
      "source": [
        "non_invertible = np.array([[1, 2, 0],\n",
        "                            [-2, 10, 3],\n",
        "                            [-3, 8, 3]])\n",
        "\n",
        "non_invertible"
      ],
      "metadata": {
        "colab": {
          "base_uri": "https://localhost:8080/"
        },
        "id": "XNsZHQMJQ4Id",
        "outputId": "51f9786f-3158-4725-a033-bc52a2925ac8"
      },
      "execution_count": null,
      "outputs": [
        {
          "output_type": "execute_result",
          "data": {
            "text/plain": [
              "array([[ 1,  2,  0],\n",
              "       [-2, 10,  3],\n",
              "       [-3,  8,  3]])"
            ]
          },
          "metadata": {},
          "execution_count": 143
        }
      ]
    },
    {
      "cell_type": "code",
      "source": [
        "linalg.det(non_invertible)"
      ],
      "metadata": {
        "colab": {
          "base_uri": "https://localhost:8080/"
        },
        "id": "r40MIUNVRIc-",
        "outputId": "d381d2b3-2df4-404d-eed0-bc637f3af039"
      },
      "execution_count": null,
      "outputs": [
        {
          "output_type": "execute_result",
          "data": {
            "text/plain": [
              "3.108624468950436e-15"
            ]
          },
          "metadata": {},
          "execution_count": 144
        }
      ]
    },
    {
      "cell_type": "code",
      "source": [
        "np.around(linalg.det(non_invertible), 10)"
      ],
      "metadata": {
        "colab": {
          "base_uri": "https://localhost:8080/"
        },
        "id": "_CatfR8oRUMv",
        "outputId": "fe80c1e7-86db-419a-c174-6ca90ccd2be9"
      },
      "execution_count": null,
      "outputs": [
        {
          "output_type": "execute_result",
          "data": {
            "text/plain": [
              "0.0"
            ]
          },
          "metadata": {},
          "execution_count": 145
        }
      ]
    },
    {
      "cell_type": "markdown",
      "source": [
        "### Inverse matrices"
      ],
      "metadata": {
        "id": "A7MzwWzbQsDj"
      }
    },
    {
      "cell_type": "code",
      "source": [
        "linalg.inv(first_matrix) @ first_matrix"
      ],
      "metadata": {
        "colab": {
          "base_uri": "https://localhost:8080/"
        },
        "id": "CX0KOd0sQthW",
        "outputId": "465b1c49-22a5-4aea-a991-1bfe370295ce"
      },
      "execution_count": null,
      "outputs": [
        {
          "output_type": "execute_result",
          "data": {
            "text/plain": [
              "array([[ 1.00000000e+00,  2.22044605e-16, -2.22044605e-16],\n",
              "       [-1.38777878e-17,  1.00000000e+00,  1.38777878e-17],\n",
              "       [ 3.46944695e-18, -1.38777878e-17,  1.00000000e+00]])"
            ]
          },
          "metadata": {},
          "execution_count": 146
        }
      ]
    },
    {
      "cell_type": "code",
      "source": [
        "np.round(linalg.inv(first_matrix) @ first_matrix, 10)"
      ],
      "metadata": {
        "colab": {
          "base_uri": "https://localhost:8080/"
        },
        "id": "8AnpNYleRhEE",
        "outputId": "ffcf56fd-1bd1-457e-dbf8-46cf44c8b311"
      },
      "execution_count": null,
      "outputs": [
        {
          "output_type": "execute_result",
          "data": {
            "text/plain": [
              "array([[ 1.,  0., -0.],\n",
              "       [-0.,  1.,  0.],\n",
              "       [ 0., -0.,  1.]])"
            ]
          },
          "metadata": {},
          "execution_count": 147
        }
      ]
    },
    {
      "cell_type": "code",
      "source": [
        "linalg.inv(non_invertible)"
      ],
      "metadata": {
        "colab": {
          "base_uri": "https://localhost:8080/"
        },
        "id": "rG-E9-kmRoeO",
        "outputId": "c5333ea6-0dcb-44bd-be7e-35ffc71d00ee"
      },
      "execution_count": null,
      "outputs": [
        {
          "output_type": "execute_result",
          "data": {
            "text/plain": [
              "array([[ 1.93011413e+15, -1.93011413e+15,  1.93011413e+15],\n",
              "       [-9.65057063e+14,  9.65057063e+14, -9.65057063e+14],\n",
              "       [ 4.50359963e+15, -4.50359963e+15,  4.50359963e+15]])"
            ]
          },
          "metadata": {},
          "execution_count": 148
        }
      ]
    },
    {
      "cell_type": "markdown",
      "source": [
        "### Solving linear systems"
      ],
      "metadata": {
        "id": "Y9CVpk14Quiu"
      }
    },
    {
      "cell_type": "markdown",
      "source": [
        "#### Unique solution"
      ],
      "metadata": {
        "id": "e9YxvHU4SlPa"
      }
    },
    {
      "cell_type": "code",
      "source": [
        "linalg.solve(first_matrix, first_vector)"
      ],
      "metadata": {
        "colab": {
          "base_uri": "https://localhost:8080/"
        },
        "id": "jOV4T-atQt5t",
        "outputId": "ee728849-930a-450f-99db-f5e3e51392b0"
      },
      "execution_count": null,
      "outputs": [
        {
          "output_type": "execute_result",
          "data": {
            "text/plain": [
              "array([-0.58769932,  0.39407745,  0.08883827])"
            ]
          },
          "metadata": {},
          "execution_count": 149
        }
      ]
    },
    {
      "cell_type": "code",
      "source": [
        "first_matrix @ linalg.solve(first_matrix, first_vector)"
      ],
      "metadata": {
        "colab": {
          "base_uri": "https://localhost:8080/"
        },
        "id": "aL326-VRTOwl",
        "outputId": "fcf78f03-c364-4ee9-ae1c-7212f9e09f9e"
      },
      "execution_count": null,
      "outputs": [
        {
          "output_type": "execute_result",
          "data": {
            "text/plain": [
              "array([1., 2., 4.])"
            ]
          },
          "metadata": {},
          "execution_count": 150
        }
      ]
    },
    {
      "cell_type": "markdown",
      "source": [
        "#### No solution"
      ],
      "metadata": {
        "id": "SjzaGO8mSoWA"
      }
    },
    {
      "cell_type": "code",
      "source": [
        "linalg.solve(non_invertible, first_vector)"
      ],
      "metadata": {
        "colab": {
          "base_uri": "https://localhost:8080/"
        },
        "id": "LsQCfDSqSpBq",
        "outputId": "e8d68a5b-8450-4a12-c0fd-25ff328499af"
      },
      "execution_count": null,
      "outputs": [
        {
          "output_type": "execute_result",
          "data": {
            "text/plain": [
              "array([ 5.79034238e+15, -2.89517119e+15,  1.35107989e+16])"
            ]
          },
          "metadata": {},
          "execution_count": 151
        }
      ]
    },
    {
      "cell_type": "code",
      "source": [
        "non_invertible @ linalg.solve(non_invertible, first_vector)"
      ],
      "metadata": {
        "colab": {
          "base_uri": "https://localhost:8080/"
        },
        "id": "hAlbBs86Tggf",
        "outputId": "47b19210-f95f-47fa-e792-c82c5bf67171"
      },
      "execution_count": null,
      "outputs": [
        {
          "output_type": "execute_result",
          "data": {
            "text/plain": [
              "array([-2., 10., 10.])"
            ]
          },
          "metadata": {},
          "execution_count": 152
        }
      ]
    },
    {
      "cell_type": "markdown",
      "source": [
        "#### Multiple solutions"
      ],
      "metadata": {
        "id": "SPlB3GeWSopX"
      }
    },
    {
      "cell_type": "code",
      "source": [
        "third_vector = np.array([1, -2, -3])"
      ],
      "metadata": {
        "id": "UkEPSqA4SpjS"
      },
      "execution_count": null,
      "outputs": []
    },
    {
      "cell_type": "code",
      "source": [
        "linalg.solve(non_invertible, third_vector)"
      ],
      "metadata": {
        "colab": {
          "base_uri": "https://localhost:8080/"
        },
        "id": "T6XndYcRT40Q",
        "outputId": "6a740c9b-81c4-4194-9809-5eb8774f2739"
      },
      "execution_count": null,
      "outputs": [
        {
          "output_type": "execute_result",
          "data": {
            "text/plain": [
              "array([1., 0., 0.])"
            ]
          },
          "metadata": {},
          "execution_count": 154
        }
      ]
    },
    {
      "cell_type": "code",
      "source": [
        "non_invertible @ linalg.solve(non_invertible, third_vector)"
      ],
      "metadata": {
        "colab": {
          "base_uri": "https://localhost:8080/"
        },
        "id": "uKtKcv4_T7uf",
        "outputId": "f56cfd9b-e450-4dad-895e-7e926c6b871e"
      },
      "execution_count": null,
      "outputs": [
        {
          "output_type": "execute_result",
          "data": {
            "text/plain": [
              "array([ 1., -2., -3.])"
            ]
          },
          "metadata": {},
          "execution_count": 155
        }
      ]
    }
  ]
}