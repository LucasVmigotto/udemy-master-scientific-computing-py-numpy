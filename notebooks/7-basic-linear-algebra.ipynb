{
  "cells": [
    {
      "cell_type": "markdown",
      "metadata": {
        "id": "aPVZW6FmVZqm"
      },
      "source": [
        "# 07 Exercise - Basic Linear Algebra"
      ]
    },
    {
      "cell_type": "markdown",
      "metadata": {
        "id": "kQZXqHVqVZqu"
      },
      "source": [
        "This exercise set is all about doing standard linear algebra exercises using NumPy."
      ]
    },
    {
      "cell_type": "code",
      "execution_count": 1,
      "metadata": {
        "id": "fW06PUXwVZqv"
      },
      "outputs": [],
      "source": [
        "#DON'T MODIFY THIS CELL, ONLY RUN IT.\n",
        "\n",
        "# Importing NumPy as np.\n",
        "import numpy as np"
      ]
    },
    {
      "cell_type": "markdown",
      "metadata": {
        "id": "QzaqlKxMVZqz"
      },
      "source": [
        "## Exercise 1: Import the Linalg Submodule"
      ]
    },
    {
      "cell_type": "code",
      "execution_count": 2,
      "metadata": {
        "id": "0GOU2C-cVZq0"
      },
      "outputs": [],
      "source": [
        "# Importing the linalg submodule from NumPy\n",
        "from numpy import linalg as la"
      ]
    },
    {
      "cell_type": "markdown",
      "metadata": {
        "id": "NNA3d2HiVZq2"
      },
      "source": [
        "## Exercise 2: Simple Vector Operations"
      ]
    },
    {
      "cell_type": "markdown",
      "metadata": {
        "id": "J2tfzuDxVZq3"
      },
      "source": [
        "### Exercise 2a:\n",
        "Are any of the vectors $[1, 2, 3]$  and $[2, 3, 4]$  parallel? What about orthogonal?"
      ]
    },
    {
      "cell_type": "code",
      "execution_count": 3,
      "metadata": {
        "colab": {
          "base_uri": "https://localhost:8080/"
        },
        "id": "N6pIJUnHVZq4",
        "outputId": "5d6abf4c-13ce-4839-971d-9d18fcc76a39"
      },
      "outputs": [
        {
          "output_type": "stream",
          "name": "stdout",
          "text": [
            "Angle 0.12186756768575456\n",
            "Orthogonal: False\n"
          ]
        }
      ],
      "source": [
        "# Make the vectors\n",
        "vec_1 = np.array([1, 2, 3])\n",
        "vec_2 = np.array([2, 3, 4])\n",
        "\n",
        "# Checking if parallel\n",
        "\n",
        "# Checking if orthogonal\n",
        "print('Orthogonal:', np.dot(vec_1, vec_2) == 0)"
      ]
    },
    {
      "cell_type": "markdown",
      "metadata": {
        "id": "dtBiivf0VZq6"
      },
      "source": [
        "### Exercise 2b:\n",
        "Can you find the angle between the vector $[1, 2, 3]$ and $[2, 3, 4]$?"
      ]
    },
    {
      "cell_type": "code",
      "execution_count": 4,
      "metadata": {
        "colab": {
          "base_uri": "https://localhost:8080/"
        },
        "id": "Eq5V7SxVVZq8",
        "outputId": "96691f4d-0b02-44ff-edc4-b34b722b808c"
      },
      "outputs": [
        {
          "output_type": "stream",
          "name": "stdout",
          "text": [
            "Angle 0.12186756768575456\n"
          ]
        }
      ],
      "source": [
        "# Defining the angle function\n",
        "def angle(vec_1, vec_2):\n",
        "  return np.arccos(np.dot(vec_1, vec_2) / (la.norm(vec_1) * la.norm(vec_2)))\n",
        "\n",
        "# Finding the angle\n",
        "print('Angle', angle(vec_1, vec_2))"
      ]
    },
    {
      "cell_type": "markdown",
      "metadata": {
        "id": "bQoxUiCeVZq9"
      },
      "source": [
        "## Exercise 3: Simple Matrix Operations"
      ]
    },
    {
      "cell_type": "markdown",
      "metadata": {
        "id": "e6Byay0bVZq_"
      },
      "source": [
        "Define the matrices\n",
        "$$ A=\n",
        "\\begin{bmatrix}\n",
        "1&1&2\\\\\n",
        "1&1&1\\\\\n",
        "1&1&1\n",
        "\\end{bmatrix}\\quad \\text{and}\\quad B=\n",
        "\\begin{bmatrix}\n",
        "1&0&0\\\\\n",
        "0&1&-2\\\\\n",
        "0&0&1\n",
        "\\end{bmatrix}.\n",
        "$$"
      ]
    },
    {
      "cell_type": "markdown",
      "metadata": {
        "id": "MuqdEDNKVZrA"
      },
      "source": [
        "### Exercise 3a:\n",
        "Find the matrix product $AB$."
      ]
    },
    {
      "cell_type": "code",
      "execution_count": 6,
      "metadata": {
        "colab": {
          "base_uri": "https://localhost:8080/"
        },
        "id": "7HmkQpVkVZrA",
        "outputId": "0b1f6691-3876-4844-f3b9-7eede99a71fc"
      },
      "outputs": [
        {
          "output_type": "execute_result",
          "data": {
            "text/plain": [
              "array([[ 1,  1,  0],\n",
              "       [ 1,  1, -1],\n",
              "       [ 1,  1, -1]])"
            ]
          },
          "metadata": {},
          "execution_count": 6
        }
      ],
      "source": [
        "# Defining the matrices\n",
        "A = np.array([[1, 1, 2],\n",
        "              [1, 1, 1],\n",
        "              [1, 1, 1]])\n",
        "\n",
        "B = np.array([[1, 0, 0],\n",
        "              [0, 1, -2],\n",
        "              [0, 0, 1]])\n",
        "\n",
        "# Finding the matrix product AB\n",
        "A @ B"
      ]
    },
    {
      "cell_type": "markdown",
      "metadata": {
        "id": "8k8DEwU5VZrB"
      },
      "source": [
        "### Exercise 3b:\n",
        "Find the matrix product $B^{-1}A^5$."
      ]
    },
    {
      "cell_type": "code",
      "execution_count": 7,
      "metadata": {
        "colab": {
          "base_uri": "https://localhost:8080/"
        },
        "id": "ox6pA6hzVZrB",
        "outputId": "62596317-7f11-473d-a59a-d1b6fabfdf94"
      },
      "outputs": [
        {
          "output_type": "execute_result",
          "data": {
            "text/plain": [
              "array([[142., 142., 185.],\n",
              "       [327., 327., 426.],\n",
              "       [109., 109., 142.]])"
            ]
          },
          "metadata": {},
          "execution_count": 7
        }
      ],
      "source": [
        "# Find the matrix power\n",
        "np.matmul(\n",
        "    la.matrix_power(B, -1),\n",
        "    la.matrix_power(A, 5)\n",
        ")"
      ]
    },
    {
      "cell_type": "markdown",
      "metadata": {
        "id": "5BCpy1gmVZrC"
      },
      "source": [
        "### Exercise 3c:\n",
        "Find the transpose of $A$, namely $A^T$. Compute the product $A A^T$."
      ]
    },
    {
      "cell_type": "code",
      "execution_count": 8,
      "metadata": {
        "colab": {
          "base_uri": "https://localhost:8080/"
        },
        "id": "-PMsItJeVZrC",
        "outputId": "06443491-da4a-44ca-8774-70316f7f0337"
      },
      "outputs": [
        {
          "output_type": "execute_result",
          "data": {
            "text/plain": [
              "array([[6, 4, 4],\n",
              "       [4, 3, 3],\n",
              "       [4, 3, 3]])"
            ]
          },
          "metadata": {},
          "execution_count": 8
        }
      ],
      "source": [
        "# Finding the transpose of $A$\n",
        "A_transpose = A.transpose()\n",
        "\n",
        "# Finding the product of $AA^T$\n",
        "A @ A_transpose"
      ]
    },
    {
      "cell_type": "markdown",
      "metadata": {
        "id": "NRWgiaqyVZrC"
      },
      "source": [
        "## Exercise 4: Balancing Chemical Equations"
      ]
    },
    {
      "cell_type": "markdown",
      "metadata": {
        "id": "DdzrNKnCVZrE"
      },
      "source": [
        "In this exercise we are going to use NumPy to balance a set of chemical equations. The question is how to balance the equation\n",
        "$$x*C_4H_{10}+y*O_2 = v*H_2O + w*CO_2.$$\n",
        "Written as vectors this becomes\n",
        "$$x*[4,10,0]+y*[0,0,2]=z*[0,2,1] + w*[1,0,2],$$\n",
        "or equivalently,\n",
        "$$\n",
        "\\begin{bmatrix}\n",
        "4&0&0\\\\\n",
        "10&0&-2\\\\\n",
        "0&2&-1\n",
        "\\end{bmatrix}\n",
        "\\begin{bmatrix}\n",
        "x\\\\ y\\\\ z\n",
        "\\end{bmatrix}\n",
        "=w*\\begin{bmatrix}\n",
        "1\\\\ 0\\\\ 2\n",
        "\\end{bmatrix}.\n",
        "$$"
      ]
    },
    {
      "cell_type": "markdown",
      "metadata": {
        "id": "NI8hekXGVZrE"
      },
      "source": [
        "### Exercise 4a:\n",
        "Find out if the matrix is invertible."
      ]
    },
    {
      "cell_type": "code",
      "execution_count": 11,
      "metadata": {
        "scrolled": true,
        "colab": {
          "base_uri": "https://localhost:8080/"
        },
        "id": "8fThQkBIVZrF",
        "outputId": "66a04f8f-07ff-4937-e7e2-9c1dcb5d99a0"
      },
      "outputs": [
        {
          "output_type": "execute_result",
          "data": {
            "text/plain": [
              "True"
            ]
          },
          "metadata": {},
          "execution_count": 11
        }
      ],
      "source": [
        "# Checking if the matrix is invertible\n",
        "chem_matrix = np.array([[4, 0, 0],\n",
        "                        [10, 0, -2],\n",
        "                        [0, 2, -1]])\n",
        "\n",
        "np.allclose(\n",
        "    np.dot(la.inv(chem_matrix), chem_matrix),\n",
        "    np.eye(3)\n",
        ")"
      ]
    },
    {
      "cell_type": "markdown",
      "metadata": {
        "id": "fd67FMruVZrF"
      },
      "source": [
        "### Exercise 4b:\n",
        "Solve the linear system with $w=1$."
      ]
    },
    {
      "cell_type": "code",
      "execution_count": null,
      "metadata": {
        "id": "5Wk1yUOhVZrF"
      },
      "outputs": [],
      "source": [
        "# Finding a solution\n"
      ]
    },
    {
      "cell_type": "markdown",
      "metadata": {
        "id": "rqac47CVVZrG"
      },
      "source": [
        "### Exercise 4c:\n",
        "Having 0.25 of a carbon atom doesn’t really make sense. Multiply the vector with the whole numbers from 1 to 10 to see when the solution consists of only whole numbers."
      ]
    },
    {
      "cell_type": "code",
      "execution_count": null,
      "metadata": {
        "id": "4zqwl1pVVZrG"
      },
      "outputs": [],
      "source": [
        "# Print out the multiples from 1 to 10\n"
      ]
    },
    {
      "cell_type": "markdown",
      "metadata": {
        "id": "qmalHdJMVZrG"
      },
      "source": [
        "### Exercise 4d:\n",
        "Write up the balanced equation, in other words, what is $x,$ $y,$ $z,$ and $w$?"
      ]
    },
    {
      "cell_type": "markdown",
      "metadata": {
        "id": "SW2pBbVuVZrH"
      },
      "source": [
        "## Moral of the Story"
      ]
    },
    {
      "cell_type": "markdown",
      "metadata": {
        "id": "-fw3p_8cVZrH"
      },
      "source": [
        "NumPy's linear algebra module makes working with linear algebra easy. In many universities around the world, NumPy is used in courses for linear algebra. In Exercise 4 above, you saw that one can use NumPy to balance chemical equations. Many other applications of linear algebra exist and you can check out the article: https://medium.com/@jeremyjkun/here-s-just-a-fraction-of-what-you-can-do-with-linear-algebra-633383d4153f for more examples!"
      ]
    }
  ],
  "metadata": {
    "kernelspec": {
      "display_name": "Python 3",
      "language": "python",
      "name": "python3"
    },
    "language_info": {
      "codemirror_mode": {
        "name": "ipython",
        "version": 3
      },
      "file_extension": ".py",
      "mimetype": "text/x-python",
      "name": "python",
      "nbconvert_exporter": "python",
      "pygments_lexer": "ipython3",
      "version": "3.8.5"
    },
    "colab": {
      "provenance": []
    }
  },
  "nbformat": 4,
  "nbformat_minor": 0
}